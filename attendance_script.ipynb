{
 "cells": [
  {
   "cell_type": "code",
   "execution_count": 64,
   "metadata": {},
   "outputs": [],
   "source": [
    "import pandas as pd\n",
    "from datetime import datetime"
   ]
  },
  {
   "cell_type": "code",
   "execution_count": 65,
   "metadata": {},
   "outputs": [],
   "source": [
    "#Enter the file name of the downloaded attendance sheet\n",
    "file_name = 'test.csv'\n",
    "# reading the CSV file \n",
    "df = pd.read_csv(f'files/{file_name}') "
   ]
  },
  {
   "cell_type": "code",
   "execution_count": 66,
   "metadata": {},
   "outputs": [],
   "source": [
    "#Remove Duplicates\n",
    "students_present = df['Full Name']\n",
    "students_present = list(dict.fromkeys(students_present))"
   ]
  },
  {
   "cell_type": "code",
   "execution_count": 67,
   "metadata": {},
   "outputs": [],
   "source": [
    "df2 = pd.DataFrame(columns = ['Name', 'Time Attended']) \n",
    "df2['Name'] = students_present"
   ]
  },
  {
   "cell_type": "code",
   "execution_count": 68,
   "metadata": {},
   "outputs": [],
   "source": [
    "student_attendance = []\n",
    "time_format = '%m/%d/%Y, %I:%M:%S %p'\n",
    "meeting_start_time = datetime.strptime('9/3/2020, 8:56:06 AM', time_format)\n",
    "meeting_end_time = datetime.strptime('9/3/2020, 10:00:00 AM', time_format)\n",
    "time_attended = meeting_end_time - meeting_start_time"
   ]
  },
  {
   "cell_type": "code",
   "execution_count": 69,
   "metadata": {},
   "outputs": [],
   "source": [
    "for i in df2.index:\n",
    "    student_join_time = meeting_start_time\n",
    "    student_leave_time = meeting_end_time\n",
    "    time_attended = meeting_end_time - meeting_end_time\n",
    "    for j in df.index:\n",
    "        if df2['Name'][i] == df['Full Name'][j]:\n",
    "            if df['User Action'][j] == \"Joined before\":\n",
    "                student_join_time = meeting_start_time\n",
    "                time_attended = meeting_end_time - student_join_time\n",
    "            if df['User Action'][j] == 'Left':\n",
    "                student_leave_time = datetime.strptime(df['Timestamp'][j], time_format)\n",
    "                time_attended = time_attended - (meeting_end_time - student_leave_time)\n",
    "            if df['User Action'][j] == \"Joined\":\n",
    "                student_join_time = datetime.strptime(df['Timestamp'][j], time_format)\n",
    "                time_attended = time_attended + (meeting_end_time - student_join_time)\n",
    "        df2['Time Attended'][i] = time_attended"
   ]
  },
  {
   "cell_type": "code",
   "execution_count": 70,
   "metadata": {},
   "outputs": [],
   "source": [
    "save_file_as = f\"files/[ATTENDANCE]{file_name}\"\n",
    "df2.to_csv(save_file_as, index=False)"
   ]
  }
 ],
 "metadata": {
  "kernelspec": {
   "display_name": "Python 3",
   "language": "python",
   "name": "python3"
  },
  "language_info": {
   "codemirror_mode": {
    "name": "ipython",
    "version": 3
   },
   "file_extension": ".py",
   "mimetype": "text/x-python",
   "name": "python",
   "nbconvert_exporter": "python",
   "pygments_lexer": "ipython3",
   "version": "3.8.5"
  }
 },
 "nbformat": 4,
 "nbformat_minor": 4
}
